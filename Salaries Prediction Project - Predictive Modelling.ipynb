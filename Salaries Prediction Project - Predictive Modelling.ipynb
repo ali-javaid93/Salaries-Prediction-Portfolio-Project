{
 "cells": [
  {
   "cell_type": "markdown",
   "metadata": {},
   "source": [
    "# Predictive Modelling\n",
    "This notebook goes through the process of setting up predictive modelling in order to predict salaries for a job opening. This file contains the following steps:\n",
    "\n",
    "1. Preprocessing Data\n",
    "2. Training different models\n",
    "3. Finding the best model with lowest MSE"
   ]
  },
  {
   "cell_type": "code",
   "execution_count": 20,
   "metadata": {},
   "outputs": [],
   "source": [
    "import pandas as pd\n",
    "import numpy as np\n",
    "from sklearn.utils import shuffle\n",
    "from sklearn.model_selection import cross_val_score\n",
    "from sklearn.linear_model import LinearRegression\n",
    "from sklearn.ensemble import RandomForestRegressor, GradientBoostingRegressor\n",
    "from sklearn.metrics import mean_squared_error\n",
    "import matplotlib.pyplot as plt\n",
    "%matplotlib inline"
   ]
  },
  {
   "cell_type": "markdown",
   "metadata": {},
   "source": [
    "## Data Preparation and Preprocessing"
   ]
  },
  {
   "cell_type": "markdown",
   "metadata": {},
   "source": [
    "### Loading Files"
   ]
  },
  {
   "cell_type": "markdown",
   "metadata": {},
   "source": [
    "Previously we cleaned the train csv file and saved as 'train_df_clean.csv'. This file is already consolidated over jobkey_id index. We will also load this file along with the 'test_df.csv'"
   ]
  },
  {
   "cell_type": "code",
   "execution_count": 3,
   "metadata": {},
   "outputs": [],
   "source": [
    "clean_train_df = pd.read_csv('train_df_clean.csv')\n",
    "clean_test_df = pd.read_csv('test_features.csv')"
   ]
  },
  {
   "cell_type": "markdown",
   "metadata": {},
   "source": [
    "### Shuffling Dataframe\n",
    "Shuffling Dataframe may help to improve cross-validation accuracy"
   ]
  },
  {
   "cell_type": "code",
   "execution_count": 4,
   "metadata": {},
   "outputs": [],
   "source": [
    "clean_train_df = shuffle(clean_train_df).reset_index(drop=True)"
   ]
  },
  {
   "cell_type": "markdown",
   "metadata": {},
   "source": [
    "### Define Variables"
   ]
  },
  {
   "cell_type": "code",
   "execution_count": 5,
   "metadata": {},
   "outputs": [],
   "source": [
    "categorical_vars = ['companyId', 'jobType', 'degree', 'major', 'industry']\n",
    "numeric_vars = ['yearsExperience', 'milesFromMetropolis']\n",
    "target_var = 'salary'"
   ]
  },
  {
   "cell_type": "markdown",
   "metadata": {},
   "source": [
    "### Get Target Variable"
   ]
  },
  {
   "cell_type": "code",
   "execution_count": 6,
   "metadata": {},
   "outputs": [],
   "source": [
    "target_df = clean_train_df[target_var]"
   ]
  },
  {
   "cell_type": "markdown",
   "metadata": {},
   "source": [
    "### One Hot Encoding"
   ]
  },
  {
   "cell_type": "code",
   "execution_count": 7,
   "metadata": {},
   "outputs": [],
   "source": [
    "def one_hot_encode_feature_df(df, cat_vars=None, num_vars=None):\n",
    "    '''performs one-hot encoding on all categorical variables and combines result with continous variables'''\n",
    "    cat_df = pd.get_dummies(df[cat_vars])\n",
    "    num_df = df[num_vars].apply(pd.to_numeric)\n",
    "    return pd.concat([cat_df, num_df], axis=1)"
   ]
  },
  {
   "cell_type": "code",
   "execution_count": 8,
   "metadata": {},
   "outputs": [],
   "source": [
    "feature_df = one_hot_encode_feature_df(clean_train_df, cat_vars=categorical_vars, num_vars=numeric_vars)\n",
    "test_df = one_hot_encode_feature_df(clean_test_df, cat_vars=categorical_vars, num_vars=numeric_vars)"
   ]
  },
  {
   "cell_type": "markdown",
   "metadata": {},
   "source": [
    "## Initializing and Training Predictive Models"
   ]
  },
  {
   "cell_type": "markdown",
   "metadata": {},
   "source": [
    "Steps:\n",
    "1. Initializing model lists and dict\n",
    "2. create models + Hyperparameter tuning\n",
    "3. Model summary\n",
    "\n",
    "Models:\n",
    "1. Linear Regression\n",
    "2. RandomForestRegressor\n",
    "3. GradientBoostRegressor"
   ]
  },
  {
   "cell_type": "code",
   "execution_count": 9,
   "metadata": {},
   "outputs": [],
   "source": [
    "#initializing model lists and dict\n",
    "models = []\n",
    "mean_mse = {}\n",
    "cv_std = {}\n",
    "res = {}"
   ]
  },
  {
   "cell_type": "code",
   "execution_count": 10,
   "metadata": {},
   "outputs": [],
   "source": [
    "#define number of processes to run in parallel\n",
    "num_procs = 2\n",
    "\n",
    "#shared model paramaters\n",
    "verbose_lvl = 5"
   ]
  },
  {
   "cell_type": "code",
   "execution_count": 11,
   "metadata": {},
   "outputs": [],
   "source": [
    "#Initiazlizing Models\n",
    "lr = LinearRegression()\n",
    "rf = RandomForestRegressor(n_estimators=150, n_jobs=num_procs, max_depth=25, min_samples_split=60, max_features=30, verbose=verbose_lvl)\n",
    "gb = GradientBoostingRegressor(n_estimators=150, max_depth=5, loss='ls', verbose=verbose_lvl)"
   ]
  },
  {
   "cell_type": "code",
   "execution_count": 12,
   "metadata": {},
   "outputs": [],
   "source": [
    "models.extend([lr, rf, gb])"
   ]
  },
  {
   "cell_type": "code",
   "execution_count": 13,
   "metadata": {},
   "outputs": [],
   "source": [
    "def train_model(model, feature_df, target_df, num_procs, mean_mse, cv_std):\n",
    "    neg_mse = cross_val_score(model, feature_df, target_df, cv=2, n_jobs=num_procs, scoring='neg_mean_squared_error')\n",
    "    mean_mse[model] = -1.0*np.mean(neg_mse)\n",
    "    cv_std[model] = np.std(neg_mse)"
   ]
  },
  {
   "cell_type": "code",
   "execution_count": 14,
   "metadata": {
    "scrolled": true
   },
   "outputs": [
    {
     "name": "stdout",
     "output_type": "stream",
     "text": [
      "\n",
      "Model:\n",
      " LinearRegression()\n",
      "Average MSE:\n",
      " 384.4165369737523\n",
      "Standard deviation during CV:\n",
      " 0.19655148593614058\n",
      "\n",
      "Model:\n",
      " RandomForestRegressor(max_depth=25, max_features=30, min_samples_split=60,\n",
      "                      n_estimators=150, n_jobs=2, verbose=5)\n",
      "Average MSE:\n",
      " 367.9620993999208\n",
      "Standard deviation during CV:\n",
      " 0.206840321794715\n",
      "\n",
      "Model:\n",
      " GradientBoostingRegressor(max_depth=5, n_estimators=150, verbose=5)\n",
      "Average MSE:\n",
      " 357.30055442902335\n",
      "Standard deviation during CV:\n",
      " 0.08160377310051103\n"
     ]
    }
   ],
   "source": [
    "#cross validate models and print summaries to compare each model\n",
    "for model in models:\n",
    "    train_model(model, feature_df, target_df, num_procs, mean_mse, cv_std)\n",
    "    print('\\nModel:\\n', model)\n",
    "    print('Average MSE:\\n', mean_mse[model])\n",
    "    print('Standard deviation during CV:\\n', cv_std[model])"
   ]
  },
  {
   "cell_type": "markdown",
   "metadata": {},
   "source": [
    "| Model | Average MSE | SD during CV |\n",
    "| ---- | ---- | ---- |\n",
    "| Linear Regression | 384.417 | 0.197 |\n",
    "| Random Forest | 367.962 | 0.207 |\n",
    "| Gradient Boost | 357.301 | 0.082 |\n",
    "\n",
    "We saw the lowest Average Mean Squared Error with Gradient Boost Regressor Model making it the best model among the three used above. "
   ]
  },
  {
   "cell_type": "markdown",
   "metadata": {},
   "source": [
    "## Predicting Test Data using Gradient Boost Regressor Model"
   ]
  },
  {
   "cell_type": "code",
   "execution_count": 15,
   "metadata": {},
   "outputs": [
    {
     "name": "stdout",
     "output_type": "stream",
     "text": [
      "      Iter       Train Loss   Remaining Time \n",
      "         1        1351.2830           17.11m\n",
      "         2        1229.8976           18.22m\n",
      "         3        1129.7084           18.52m\n",
      "         4        1045.3752           17.78m\n",
      "         5         974.4283           18.20m\n",
      "         6         914.9446           18.18m\n",
      "         7         862.6779           18.77m\n",
      "         8         814.8460           18.76m\n",
      "         9         772.9795           18.35m\n",
      "        10         737.2014           18.97m\n",
      "        11         703.2007           19.28m\n",
      "        12         674.8285           19.01m\n",
      "        13         646.7975           18.77m\n",
      "        14         622.7268           18.55m\n",
      "        15         600.2103           18.33m\n",
      "        16         580.4148           18.15m\n",
      "        17         562.4582           18.00m\n",
      "        18         546.1933           17.83m\n",
      "        19         532.1733           17.66m\n",
      "        20         519.7989           17.53m\n",
      "        21         507.6813           17.37m\n",
      "        22         495.8845           17.19m\n",
      "        23         486.4871           17.04m\n",
      "        24         476.9924           16.93m\n",
      "        25         468.2647           16.78m\n",
      "        26         461.2279           16.61m\n",
      "        27         454.1592           16.46m\n",
      "        28         446.2624           16.30m\n",
      "        29         440.6765           16.15m\n",
      "        30         434.7553           16.05m\n",
      "        31         429.2346           15.94m\n",
      "        32         424.2917           15.80m\n",
      "        33         420.3582           15.66m\n",
      "        34         415.5826           15.50m\n",
      "        35         411.5928           15.35m\n",
      "        36         408.3976           15.22m\n",
      "        37         405.5008           15.08m\n",
      "        38         402.8080           14.95m\n",
      "        39         399.8214           14.80m\n",
      "        40         397.1956           14.68m\n",
      "        41         394.9489           14.56m\n",
      "        42         392.4671           14.57m\n",
      "        43         390.5625           14.53m\n",
      "        44         388.7537           14.41m\n",
      "        45         386.7124           14.29m\n",
      "        46         385.2113           14.18m\n",
      "        47         383.4763           13.99m\n",
      "        48         382.2040           13.83m\n",
      "        49         380.7438           13.65m\n",
      "        50         379.5808           13.49m\n",
      "        51         378.4055           13.36m\n",
      "        52         377.0657           13.22m\n",
      "        53         376.1363           13.06m\n",
      "        54         375.0350           12.89m\n",
      "        55         374.2654           12.76m\n",
      "        56         373.0524           12.65m\n",
      "        57         372.1788           12.63m\n",
      "        58         371.5162           12.50m\n",
      "        59         370.8655           12.36m\n",
      "        60         370.1295           12.22m\n",
      "        61         369.5625           12.14m\n",
      "        62         369.0510           11.97m\n",
      "        63         368.4511           11.79m\n",
      "        64         367.8407           11.65m\n",
      "        65         367.2397           11.47m\n",
      "        66         366.8049           11.32m\n",
      "        67         366.4709           11.18m\n",
      "        68         365.8530           11.03m\n",
      "        69         365.1556           10.88m\n",
      "        70         364.8456           10.73m\n",
      "        71         364.4409           10.56m\n",
      "        72         364.1200           10.40m\n",
      "        73         363.8223           10.26m\n",
      "        74         363.5483           10.12m\n",
      "        75         363.1621            9.99m\n",
      "        76         362.9085            9.85m\n",
      "        77         362.4975            9.71m\n",
      "        78         362.2728            9.56m\n",
      "        79         361.9852            9.43m\n",
      "        80         361.7159            9.27m\n",
      "        81         361.2094            9.13m\n",
      "        82         361.0009            8.99m\n",
      "        83         360.8369            8.85m\n",
      "        84         360.6868            8.72m\n",
      "        85         360.4469            8.58m\n",
      "        86         360.3233            8.44m\n",
      "        87         360.1320            8.29m\n",
      "        88         359.7673            8.17m\n",
      "        89         359.6228            8.04m\n",
      "        90         359.4911            7.92m\n",
      "        91         359.3641            7.78m\n",
      "        92         359.1885            7.65m\n",
      "        93         358.9043            7.50m\n",
      "        94         358.7813            7.37m\n",
      "        95         358.6926            7.24m\n",
      "        96         358.5604            7.11m\n",
      "        97         358.3333            6.97m\n",
      "        98         358.2481            6.86m\n",
      "        99         358.0749            6.75m\n",
      "       100         357.9892            6.60m\n",
      "       101         357.8827            6.47m\n",
      "       102         357.6588            6.34m\n",
      "       103         357.4892            6.20m\n",
      "       104         357.4221            6.05m\n",
      "       105         357.3222            5.91m\n",
      "       106         357.2757            5.78m\n",
      "       107         357.1766            5.64m\n",
      "       108         357.0845            5.50m\n",
      "       109         357.0219            5.36m\n",
      "       110         356.8646            5.23m\n",
      "       111         356.8097            5.10m\n",
      "       112         356.6792            4.97m\n",
      "       113         356.6005            4.83m\n",
      "       114         356.5345            4.69m\n",
      "       115         356.4918            4.56m\n",
      "       116         356.3863            4.42m\n",
      "       117         356.3298            4.29m\n",
      "       118         356.2260            4.16m\n",
      "       119         356.1327            4.02m\n",
      "       120         356.0783            3.89m\n",
      "       121         356.0379            3.76m\n",
      "       122         355.9801            3.63m\n",
      "       123         355.9083            3.50m\n",
      "       124         355.8254            3.37m\n",
      "       125         355.7833            3.24m\n",
      "       126         355.7386            3.11m\n",
      "       127         355.7060            2.98m\n",
      "       128         355.6415            2.85m\n",
      "       129         355.6150            2.72m\n",
      "       130         355.5596            2.59m\n",
      "       131         355.5253            2.46m\n",
      "       132         355.5027            2.33m\n",
      "       133         355.4711            2.20m\n",
      "       134         355.4164            2.08m\n",
      "       135         355.3686            1.95m\n",
      "       136         355.2910            1.82m\n",
      "       137         355.2581            1.69m\n",
      "       138         355.2351            1.56m\n",
      "       139         355.2050            1.43m\n",
      "       140         355.1670            1.30m\n",
      "       141         355.1341            1.17m\n",
      "       142         355.0897            1.04m\n",
      "       143         355.0588           54.57s\n",
      "       144         355.0464           46.75s\n",
      "       145         355.0161           38.95s\n",
      "       146         354.9721           31.15s\n",
      "       147         354.9559           23.34s\n",
      "       148         354.9346           15.54s\n",
      "       149         354.8952            7.76s\n",
      "       150         354.8716            0.00s\n",
      "\n",
      "Predictions calculated using Gradient Boost Regressor.\n"
     ]
    }
   ],
   "source": [
    "#selecting Gradient Boost as the preferred model\n",
    "model = min(mean_mse, key=mean_mse.get)\n",
    "\n",
    "#train model on entire dataset\n",
    "model.fit(feature_df, target_df)\n",
    "\n",
    "#predictions for test df\n",
    "predictions = model.predict(test_df)\n",
    "\n",
    "print('\\nPredictions calculated using Gradient Boost Regressor.')"
   ]
  },
  {
   "cell_type": "markdown",
   "metadata": {},
   "source": [
    "### Feature Importances"
   ]
  },
  {
   "cell_type": "code",
   "execution_count": 16,
   "metadata": {},
   "outputs": [],
   "source": [
    "#Saving feature importances\n",
    "importances = model.feature_importances_\n",
    "\n",
    "feature_importances = pd.DataFrame({'feature':feature_df.columns, 'importance':importances})\n",
    "feature_importances.sort_values(by='importance', ascending=False, inplace=True)\n",
    "#set index to 'feature'\n",
    "feature_importances.set_index('feature', inplace=True, drop=True)"
   ]
  },
  {
   "cell_type": "code",
   "execution_count": 21,
   "metadata": {},
   "outputs": [
    {
     "data": {
      "image/png": "[encoded data removed]",
      "text/plain": [
       "<Figure size 1440x720 with 1 Axes>"
      ]
     },
     "metadata": {},
     "output_type": "display_data"
    }
   ],
   "source": [
    "#visualizing Feature Importances\n",
    "feature_importances[0:25].plot.bar(figsize=(20,10))\n",
    "plt.show()"
   ]
  },
  {
   "cell_type": "markdown",
   "metadata": {},
   "source": [
    "### Saving Results"
   ]
  },
  {
   "cell_type": "code",
   "execution_count": 23,
   "metadata": {},
   "outputs": [],
   "source": [
    "def save_results(model, mean_mse, predictions, feature_importances):\n",
    "    '''saves model, model summary, feature importances, and predictions'''\n",
    "    with open('model.txt', 'w') as file:\n",
    "        file.write(str(model))\n",
    "    feature_importances.to_csv('feature_importances.csv') \n",
    "    np.savetxt('predictions.csv', predictions, delimiter=',')"
   ]
  },
  {
   "cell_type": "code",
   "execution_count": 24,
   "metadata": {},
   "outputs": [],
   "source": [
    "#save results\n",
    "save_results(model, mean_mse[model], predictions, feature_importances)"
   ]
  }
 ],
 "metadata": {
  "kernelspec": {
   "display_name": "Python 3",
   "language": "python",
   "name": "python3"
  },
  "language_info": {
   "codemirror_mode": {
    "name": "ipython",
    "version": 3
   },
   "file_extension": ".py",
   "mimetype": "text/x-python",
   "name": "python",
   "nbconvert_exporter": "python",
   "pygments_lexer": "ipython3",
   "version": "3.6.4"
  }
 },
 "nbformat": 4,
 "nbformat_minor": 2
}
